{
  "nbformat": 4,
  "nbformat_minor": 0,
  "metadata": {
    "colab": {
      "name": "Ex16_list_PB.ipynb",
      "provenance": [],
      "authorship_tag": "ABX9TyOOPsVsZhnrkRY37a68p2rg",
      "include_colab_link": true
    },
    "kernelspec": {
      "name": "python3",
      "display_name": "Python 3"
    },
    "language_info": {
      "name": "python"
    }
  },
  "cells": [
    {
      "cell_type": "markdown",
      "metadata": {
        "id": "view-in-github",
        "colab_type": "text"
      },
      "source": [
        "<a href=\"https://colab.research.google.com/github/JacksonJBO/Aprendizado/blob/main/Ex16_list_PB.ipynb\" target=\"_parent\"><img src=\"https://colab.research.google.com/assets/colab-badge.svg\" alt=\"Open In Colab\"/></a>"
      ]
    },
    {
      "cell_type": "code",
      "metadata": {
        "colab": {
          "base_uri": "https://localhost:8080/"
        },
        "id": "HWgw2dI-8YPN",
        "outputId": "e756b1e5-bd11-44d8-a004-3dc9da6e65f9"
      },
      "source": [
        "vendedores = []\n",
        "contagem_salarial = [0] * 9\n",
        "while True: \n",
        "  vendas = int(input('Qual valor bruto da venda?(-1 para sair) '))\n",
        "  if vendas == -1:\n",
        "    break\n",
        "  comissao = vendas * 9 /100\n",
        "  valor = int(200 + comissao)\n",
        "  vendedores.append(valor)\n",
        "for vendedor in vendedores:\n",
        "  indice = vendedor // 100 - 2\n",
        "  indice_max = len(contagem_salarial) - 1\n",
        "  indice = min(indice, indice_max)\n",
        "  contagem_salarial[indice] += 1\n",
        "  \n",
        "print(vendedores)\n",
        "print(contagem_salarial)"
      ],
      "execution_count": 19,
      "outputs": [
        {
          "output_type": "stream",
          "text": [
            "Qual valor bruto da venda?(-1 para sair) 5200\n",
            "Qual valor bruto da venda?(-1 para sair) 3000\n",
            "Qual valor bruto da venda?(-1 para sair) 4000\n",
            "Qual valor bruto da venda?(-1 para sair) 56000\n",
            "Qual valor bruto da venda?(-1 para sair) 57000\n",
            "Qual valor bruto da venda?(-1 para sair) 89000\n",
            "Qual valor bruto da venda?(-1 para sair) 12000\n",
            "Qual valor bruto da venda?(-1 para sair) 65000\n",
            "Qual valor bruto da venda?(-1 para sair) 8000\n",
            "Qual valor bruto da venda?(-1 para sair) 1000\n",
            "Qual valor bruto da venda?(-1 para sair) -1\n",
            "[668, 470, 560, 5240, 5330, 8210, 1280, 6050, 920, 290]\n",
            "[1, 0, 1, 1, 1, 0, 0, 1, 5]\n"
          ],
          "name": "stdout"
        }
      ]
    }
  ]
}