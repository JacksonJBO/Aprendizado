{
  "nbformat": 4,
  "nbformat_minor": 0,
  "metadata": {
    "colab": {
      "name": "Untitled2.ipynb",
      "provenance": [],
      "authorship_tag": "ABX9TyOD5SWDh/dyAZEi5vOijHjc",
      "include_colab_link": true
    },
    "kernelspec": {
      "name": "python3",
      "display_name": "Python 3"
    },
    "language_info": {
      "name": "python"
    }
  },
  "cells": [
    {
      "cell_type": "markdown",
      "metadata": {
        "id": "view-in-github",
        "colab_type": "text"
      },
      "source": [
        "<a href=\"https://colab.research.google.com/github/JacksonJBO/Aprendizado/blob/main/Simulador_jogos_mega.ipynb\" target=\"_parent\"><img src=\"https://colab.research.google.com/assets/colab-badge.svg\" alt=\"Open In Colab\"/></a>"
      ]
    },
    {
      "cell_type": "code",
      "metadata": {
        "colab": {
          "base_uri": "https://localhost:8080/"
        },
        "id": "pZfWN-B7Yyuv",
        "outputId": "f2d7b1c2-8563-4936-942b-6b4c9b22fece"
      },
      "source": [
        "from random import randint\n",
        "from time import sleep\n",
        "\n",
        "print('-='*20)\n",
        "print('      Jogos da Mega        ')\n",
        "print('-=' *20)\n",
        "\n",
        "jogos = list()\n",
        "qtd_jogos = int(input('Quantos jogos quer simular? '))\n",
        "print('-#' * 20)\n",
        "for c in range(qtd_jogos):\n",
        "  jogos.clear()\n",
        "  for i in range(6):\n",
        "    jg = randint(1, 60)\n",
        "    jogos.append(jg)\n",
        "  print(f'Jogo {c+1}: {jogos}')\n",
        "  sleep(1)\n",
        "    \n"
      ],
      "execution_count": 18,
      "outputs": [
        {
          "output_type": "stream",
          "text": [
            "-=-=-=-=-=-=-=-=-=-=-=-=-=-=-=-=-=-=-=-=\n",
            "      Jogos da Mega        \n",
            "-=-=-=-=-=-=-=-=-=-=-=-=-=-=-=-=-=-=-=-=\n",
            "Quantos jogos quer simular? 3\n",
            "-#-#-#-#-#-#-#-#-#-#-#-#-#-#-#-#-#-#-#-#\n",
            "Jogo 1: [40, 60, 19, 57, 10, 42]\n",
            "Jogo 2: [56, 2, 26, 10, 33, 48]\n",
            "Jogo 3: [26, 12, 52, 30, 27, 48]\n"
          ],
          "name": "stdout"
        }
      ]
    },
    {
      "cell_type": "code",
      "metadata": {
        "id": "tPYWMK70a7dk"
      },
      "source": [
        ""
      ],
      "execution_count": null,
      "outputs": []
    }
  ]
}