{
  "nbformat": 4,
  "nbformat_minor": 0,
  "metadata": {
    "colab": {
      "name": "Exerc_funcoes_PB.ipynb",
      "provenance": [],
      "authorship_tag": "ABX9TyM6r5tkT21rQ1mnGigkJxV4",
      "include_colab_link": true
    },
    "kernelspec": {
      "name": "python3",
      "display_name": "Python 3"
    },
    "language_info": {
      "name": "python"
    }
  },
  "cells": [
    {
      "cell_type": "markdown",
      "metadata": {
        "id": "view-in-github",
        "colab_type": "text"
      },
      "source": [
        "<a href=\"https://colab.research.google.com/github/JacksonJBO/Aprendizado/blob/main/Exerc_funcoes_PB.ipynb\" target=\"_parent\"><img src=\"https://colab.research.google.com/assets/colab-badge.svg\" alt=\"Open In Colab\"/></a>"
      ]
    },
    {
      "cell_type": "markdown",
      "metadata": {
        "id": "W9cmJiXXuPfh"
      },
      "source": [
        "# Funções \n"
      ]
    },
    {
      "cell_type": "code",
      "metadata": {
        "colab": {
          "base_uri": "https://localhost:8080/"
        },
        "id": "NDJTmil9uUXc",
        "outputId": "39518f28-21b5-4a50-f811-c6163722c452"
      },
      "source": [
        "n = int(input('Digite um numero: '))\n",
        "def triangulo_numero(n):\n",
        "  for i in range(1, n + 1):\n",
        "    for _ in range(i):\n",
        "      print(i, end='   ')\n",
        "    print()\n",
        "triangulo_numero(n)"
      ],
      "execution_count": 6,
      "outputs": [
        {
          "output_type": "stream",
          "text": [
            "Digite um numero: 12\n",
            "1   \n",
            "2   2   \n",
            "3   3   3   \n",
            "4   4   4   4   \n",
            "5   5   5   5   5   \n",
            "6   6   6   6   6   6   \n",
            "7   7   7   7   7   7   7   \n",
            "8   8   8   8   8   8   8   8   \n",
            "9   9   9   9   9   9   9   9   9   \n",
            "10   10   10   10   10   10   10   10   10   10   \n",
            "11   11   11   11   11   11   11   11   11   11   11   \n",
            "12   12   12   12   12   12   12   12   12   12   12   12   \n"
          ],
          "name": "stdout"
        }
      ]
    },
    {
      "cell_type": "code",
      "metadata": {
        "colab": {
          "base_uri": "https://localhost:8080/"
        },
        "id": "3tm993w3zLFC",
        "outputId": "41e9d9e7-7704-434a-8807-37b018528571"
      },
      "source": [
        "lista = []\n",
        "def triangulo_seq(n):\n",
        "  for i in range(0, n):\n",
        "    lista.append(str(i+1))\n",
        "    print('  '.join(lista))\n",
        "    print()\n",
        "n = int(input('Digite um número: '))\n",
        "triangulo_seq(n)"
      ],
      "execution_count": 21,
      "outputs": [
        {
          "output_type": "stream",
          "text": [
            "Digite um número: 9\n",
            "1\n",
            "\n",
            "1  2\n",
            "\n",
            "1  2  3\n",
            "\n",
            "1  2  3  4\n",
            "\n",
            "1  2  3  4  5\n",
            "\n",
            "1  2  3  4  5  6\n",
            "\n",
            "1  2  3  4  5  6  7\n",
            "\n",
            "1  2  3  4  5  6  7  8\n",
            "\n",
            "1  2  3  4  5  6  7  8  9\n",
            "\n"
          ],
          "name": "stdout"
        }
      ]
    }
  ]
}