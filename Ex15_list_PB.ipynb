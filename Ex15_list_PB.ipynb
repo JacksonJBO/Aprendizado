{
  "nbformat": 4,
  "nbformat_minor": 0,
  "metadata": {
    "colab": {
      "name": "Ex15_list_PB.ipynb",
      "provenance": [],
      "authorship_tag": "ABX9TyN52eIfaqe3k8jVEjexeNoi",
      "include_colab_link": true
    },
    "kernelspec": {
      "name": "python3",
      "display_name": "Python 3"
    },
    "language_info": {
      "name": "python"
    }
  },
  "cells": [
    {
      "cell_type": "markdown",
      "metadata": {
        "id": "view-in-github",
        "colab_type": "text"
      },
      "source": [
        "<a href=\"https://colab.research.google.com/github/JacksonJBO/Aprendizado/blob/main/Ex15_list_PB.ipynb\" target=\"_parent\"><img src=\"https://colab.research.google.com/assets/colab-badge.svg\" alt=\"Open In Colab\"/></a>"
      ]
    },
    {
      "cell_type": "code",
      "metadata": {
        "colab": {
          "base_uri": "https://localhost:8080/"
        },
        "id": "_ZZTAqYyicjz",
        "outputId": "86b13430-5a62-42af-9f2b-1245647665b8"
      },
      "source": [
        "grupo = list()\n",
        "\n",
        "for _ in range(0, 10):\n",
        "  num = float(input('Digite um numero: '))\n",
        "  grupo.append(num)\n",
        "\n",
        "grupo.sort(reverse=True)\n",
        "print(grupo)"
      ],
      "execution_count": 2,
      "outputs": [
        {
          "output_type": "stream",
          "text": [
            "Digite um numero: 15\n",
            "Digite um numero: 12\n",
            "Digite um numero: 23\n",
            "Digite um numero: 58\n",
            "Digite um numero: 4\n",
            "Digite um numero: 5\n",
            "Digite um numero: 6\n",
            "Digite um numero: 10\n",
            "Digite um numero: 5\n",
            "Digite um numero: 11\n",
            "[58.0, 23.0, 15.0, 12.0, 11.0, 10.0, 6.0, 5.0, 5.0, 4.0]\n"
          ],
          "name": "stdout"
        }
      ]
    },
    {
      "cell_type": "code",
      "metadata": {
        "colab": {
          "base_uri": "https://localhost:8080/"
        },
        "id": "yYzz3wDjmfRZ",
        "outputId": "9d8609b9-18c4-4e80-e93e-4e809412daea"
      },
      "source": [
        "grupo = list()\n",
        "quant = soma = 0\n",
        "\n",
        "while True:\n",
        "  num = float(input('Digite um numero: '))\n",
        "  if num == -1:\n",
        "    break\n",
        "  else:\n",
        "    quant += 1\n",
        "    grupo.append(num)\n",
        "    soma += num\n",
        "    # soma = sum(grupo)\n",
        "print(quant)  \n",
        "print(' '.join([str(nota) for nota in grupo]))\n",
        "media = soma / quant\n",
        "print(f'A soma é {soma}')\n",
        "print(f'A média é {media}')\n",
        "\n",
        "grupo.reverse()\n",
        "for c in grupo:\n",
        "  print(c)\n",
        "print('Notas acima da média: ', end='')\n",
        "print(' '.join([str(nota) for nota in grupo if nota > media]))\n",
        "print('Notas abaixo de de 7:',' '.join([str(nota) for nota in grupo if nota <7]))\n",
        "print('FIM DO PROGRAMA!')\n",
        "\n"
      ],
      "execution_count": 31,
      "outputs": [
        {
          "output_type": "stream",
          "text": [
            "Digite um numero: 5\n",
            "Digite um numero: 41\n",
            "Digite um numero: 8\n",
            "Digite um numero: 6\n",
            "Digite um numero: 2\n",
            "Digite um numero: 87\n",
            "Digite um numero: -1\n",
            "6\n",
            "5.0 41.0 8.0 6.0 2.0 87.0\n",
            "A soma é 149.0\n",
            "A média é 24.833333333333332\n",
            "87.0\n",
            "2.0\n",
            "6.0\n",
            "8.0\n",
            "41.0\n",
            "5.0\n",
            "Notas acima da média: 87.0 41.0\n",
            "Notas abaixo de de 7 2.0 6.0 5.0\n"
          ],
          "name": "stdout"
        }
      ]
    }
  ]
}