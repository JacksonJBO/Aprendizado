{
  "nbformat": 4,
  "nbformat_minor": 0,
  "metadata": {
    "colab": {
      "name": "exer_4_7_8_estr_rep_PB.ipynb",
      "provenance": [],
      "authorship_tag": "ABX9TyMxHkizJig/oTwwMAF4C/xs",
      "include_colab_link": true
    },
    "kernelspec": {
      "name": "python3",
      "display_name": "Python 3"
    },
    "language_info": {
      "name": "python"
    }
  },
  "cells": [
    {
      "cell_type": "markdown",
      "metadata": {
        "id": "view-in-github",
        "colab_type": "text"
      },
      "source": [
        "<a href=\"https://colab.research.google.com/github/JacksonJBO/Aprendizado/blob/main/exer_4_7_8_estr_rep_PB.ipynb\" target=\"_parent\"><img src=\"https://colab.research.google.com/assets/colab-badge.svg\" alt=\"Open In Colab\"/></a>"
      ]
    },
    {
      "cell_type": "code",
      "metadata": {
        "colab": {
          "base_uri": "https://localhost:8080/"
        },
        "id": "kYD5vDzOpMNr",
        "outputId": "80ab04a2-a2ae-4d1e-bd47-77478e0e3cd3"
      },
      "source": [
        "while True:\n",
        "  try:\n",
        "    num = int(input('Digite um valor entre 0 e 10: '))\n",
        "  except ValueError:\n",
        "    print('Erro. Somente numeros entre 0 e 10 pode ser digitado')\n",
        "  else: \n",
        "    if 0 <= num <= 10:\n",
        "      print(f'O número digitado foi {num}')\n",
        "      break\n",
        "    else: \n",
        "      print('Valor invalido, digite um numero entre 0 e 10')\n",
        "      "
      ],
      "execution_count": 6,
      "outputs": [
        {
          "output_type": "stream",
          "text": [
            "Digite um valor entre 0 e 10: 12\n",
            "Valor invalido, digite um numero entre 0 e 10\n",
            "Digite um valor entre 0 e 10: as\n",
            "Erro. Somente numeros entre 0 e 10 pode ser digitado\n",
            "Digite um valor entre 0 e 10: 15\n",
            "Valor invalido, digite um numero entre 0 e 10\n",
            "Digite um valor entre 0 e 10: 16\n",
            "Valor invalido, digite um numero entre 0 e 10\n",
            "Digite um valor entre 0 e 10: 10\n",
            "O número digitado foi 10\n"
          ],
          "name": "stdout"
        }
      ]
    },
    {
      "cell_type": "code",
      "metadata": {
        "colab": {
          "base_uri": "https://localhost:8080/"
        },
        "id": "E6FmxufVt2ab",
        "outputId": "d7144af9-9137-4797-9716-a9940d27fe32"
      },
      "source": [
        "pop_a = 80000\n",
        "pop_b = 200000\n",
        "cont = 0\n",
        "while True:\n",
        "  if pop_a < pop_b:\n",
        "    pop_a = pop_a * 1.03\n",
        "    pop_b = pop_b * 1.015\n",
        "    cont += 1  \n",
        "  else:\n",
        "    print(f'Depois de {cont} anos a População A será maior que a População B')\n",
        "    break"
      ],
      "execution_count": 9,
      "outputs": [
        {
          "output_type": "stream",
          "text": [
            "Depois de 63 anos a População A será maior que a População B\n"
          ],
          "name": "stdout"
        }
      ]
    },
    {
      "cell_type": "code",
      "metadata": {
        "colab": {
          "base_uri": "https://localhost:8080/"
        },
        "id": "XVYQE0AcuWtr",
        "outputId": "07faf7e9-fed3-4e01-ae4e-17d758b880cf"
      },
      "source": [
        "maior = menor = 0\n",
        "for n in range(0, 5):\n",
        "  num = int(input('Digite um número: '))\n",
        "  if n == 0:\n",
        "    maior = menor = num\n",
        "  else:\n",
        "    if num > maior:\n",
        "      maior = num\n",
        "    if num < menor:\n",
        "      menor = num\n",
        "print(f'O maior número digitado foi {maior}!. E o menor foi {menor}.')\n",
        "\n"
      ],
      "execution_count": 18,
      "outputs": [
        {
          "output_type": "stream",
          "text": [
            "Digite um número: 51\n",
            "Digite um número: 52\n",
            "Digite um número: 1\n",
            "Digite um número: 6\n",
            "Digite um número: 8\n",
            "O maior número digitado foi 52!. E o menor foi 1.\n"
          ],
          "name": "stdout"
        }
      ]
    },
    {
      "cell_type": "code",
      "metadata": {
        "colab": {
          "base_uri": "https://localhost:8080/"
        },
        "id": "adHWD6mH0Rg5",
        "outputId": "8e08a321-8338-49ed-8dd0-092053f4e38e"
      },
      "source": [
        "#Resolução Renzo\n",
        "maximo = float(input('Digite um número: '))\n",
        "\n",
        "for _ in range(4):\n",
        "  maximo = max(maximo, float(input('Digite um número: ')))\n",
        "  print(f'Número máximo encontrado ate agora é: {maximo}')"
      ],
      "execution_count": 19,
      "outputs": [
        {
          "output_type": "stream",
          "text": [
            "Digite um número: -1\n",
            "Digite um número: 2\n",
            "Número máximo encontrado ate agora é: 2.0\n",
            "Digite um número: 5\n",
            "Número máximo encontrado ate agora é: 5.0\n",
            "Digite um número: 10\n",
            "Número máximo encontrado ate agora é: 10.0\n",
            "Digite um número: 100\n",
            "Número máximo encontrado ate agora é: 100.0\n"
          ],
          "name": "stdout"
        }
      ]
    },
    {
      "cell_type": "code",
      "metadata": {
        "colab": {
          "base_uri": "https://localhost:8080/"
        },
        "id": "6-FhWsCr1PCH",
        "outputId": "0031e7a4-c436-4ecc-a847-c7d1a9596b32"
      },
      "source": [
        "soma = media = 0\n",
        "for _ in range(5):\n",
        "  num = float(input('Digite um número: '))\n",
        "  soma += num\n",
        "media = soma / 5\n",
        "print(f'A soma total é {soma} e a média é {media:.1f}')\n"
      ],
      "execution_count": 21,
      "outputs": [
        {
          "output_type": "stream",
          "text": [
            "Digite um número: 50\n",
            "Digite um número: 22\n",
            "Digite um número: 23\n",
            "Digite um número: 49\n",
            "Digite um número: 14\n",
            "A soma total é 158.0 e a média é 31.6\n"
          ],
          "name": "stdout"
        }
      ]
    }
  ]
}