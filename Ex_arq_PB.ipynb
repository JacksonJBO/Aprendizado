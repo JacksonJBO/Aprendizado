{
  "nbformat": 4,
  "nbformat_minor": 0,
  "metadata": {
    "colab": {
      "name": "Ex_arq_PB.ipynb",
      "provenance": [],
      "authorship_tag": "ABX9TyMlaCKPUNUYsNxunakZnmMG",
      "include_colab_link": true
    },
    "kernelspec": {
      "name": "python3",
      "display_name": "Python 3"
    },
    "language_info": {
      "name": "python"
    }
  },
  "cells": [
    {
      "cell_type": "markdown",
      "metadata": {
        "id": "view-in-github",
        "colab_type": "text"
      },
      "source": [
        "<a href=\"https://colab.research.google.com/github/JacksonJBO/Aprendizado/blob/main/Ex_arq_PB.ipynb\" target=\"_parent\"><img src=\"https://colab.research.google.com/assets/colab-badge.svg\" alt=\"Open In Colab\"/></a>"
      ]
    },
    {
      "cell_type": "markdown",
      "metadata": {
        "id": "hsoTgimJBu5o"
      },
      "source": [
        "#Arquivos"
      ]
    },
    {
      "cell_type": "code",
      "metadata": {
        "id": "8PzRzZKNBsdR"
      },
      "source": [
        "def validar(ip:str) -> bool:\n",
        "  numero = ip.split('.')\n",
        "\n",
        "  if len(numero) != 4:  \n",
        "    return False\n",
        "  \n",
        "  for n in numero:\n",
        "    if not (0 <= int(n) <=255):\n",
        "      return False\n",
        "  return True\n",
        "\n",
        "ip_valido = []\n",
        "ip_invalido = []\n",
        "with open('sample_data/ips.txt', 'r') as arquivo:\n",
        "  for linha in arquivo:\n",
        "    ip = linha.strip()\n",
        "    if validar(ip):\n",
        "      ip_valido.append(ip)\n",
        "    else:\n",
        "      ip_invalido.append(ip)\n",
        "    \n",
        "with open('sample_data/ips_saida.txt', 'w') as arquivo:\n",
        "  arquivo.writelines('[Endereços válidos]\\n')\n",
        "  for ip in ip_valido:\n",
        "    arquivo.writelines(f'{ip}\\n')\n",
        "  arquivo.writelines('\\n')\n",
        "  arquivo.writelines('\\n')\n",
        "  arquivo.writelines('[Endereços inválidos]\\n')\n",
        "  for ip in ip_invalido:\n",
        "    arquivo.writelines(f'{ip}\\n')"
      ],
      "execution_count": 5,
      "outputs": []
    },
    {
      "cell_type": "code",
      "metadata": {
        "id": "iZdQnFm2gVtv"
      },
      "source": [
        "lista_de_dados = []\n",
        "def converter_megabits(tamanho_em_bytes:str) -> float:\n",
        "  return int(tamanho_em_bytes) / (2**10) ** 2\n",
        "with open('sample_data/usuarios.txt', 'r') as arquivo:\n",
        "  for linha in arquivo:\n",
        "    linha = linha.strip()\n",
        "    usuario = linha[:15]\n",
        "    tamanho_disco = converter_megabits(linha[16:])\n",
        "    lista_de_dados.append((usuario, tamanho_disco))\n",
        "\n",
        "cabeçalho = '''ACME Inc.               Uso do espaço em disco pelos usuários\n",
        "------------------------------------------------------------------------\n",
        "Nr.  Usuário        Espaço utilizado     % do uso\n",
        "'''\n",
        "with open('sample_data/relatório.txt', 'w') as arquivo:\n",
        "  tam_total = sum([tamanho for _, tamanho in lista_de_dados])\n",
        "  media = tam_total / len(lista_de_dados)\n",
        "  arquivo.writelines(cabeçalho)\n",
        "  for indice, dados in enumerate(lista_de_dados, start=1):\n",
        "    usuario, tamanho_disco = dados\n",
        "    arquivo.writelines(f'{indice:<4} {usuario} {tamanho_disco:9.2f} MB         {tamanho_disco/tam_total:>6.2%}\\n')\n",
        "\n",
        "  arquivo.writelines('\\n')\n",
        "  arquivo.writelines(f'Espaço total ocupado: {tam_total:.2f} MB\\n')\n",
        "  arquivo.writelines(f'Espaço médio ocupado: {media:.2f} MB')\n"
      ],
      "execution_count": 35,
      "outputs": []
    }
  ]
}