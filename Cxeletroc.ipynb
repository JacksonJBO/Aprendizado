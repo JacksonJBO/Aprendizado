{
  "nbformat": 4,
  "nbformat_minor": 0,
  "metadata": {
    "colab": {
      "name": "Cxeletroc.ipynb",
      "provenance": [],
      "authorship_tag": "ABX9TyPbZtNav2DGExlJK1jFaTlV",
      "include_colab_link": true
    },
    "kernelspec": {
      "name": "python3",
      "display_name": "Python 3"
    },
    "language_info": {
      "name": "python"
    }
  },
  "cells": [
    {
      "cell_type": "markdown",
      "metadata": {
        "id": "view-in-github",
        "colab_type": "text"
      },
      "source": [
        "<a href=\"https://colab.research.google.com/github/JacksonJBO/Aprendizado/blob/main/Cxeletroc.ipynb\" target=\"_parent\"><img src=\"https://colab.research.google.com/assets/colab-badge.svg\" alt=\"Open In Colab\"/></a>"
      ]
    },
    {
      "cell_type": "code",
      "metadata": {
        "colab": {
          "base_uri": "https://localhost:8080/"
        },
        "id": "kv7Wl54iHZoh",
        "outputId": "b29196a7-ef66-46a1-9dbc-8e624d8cf5d1"
      },
      "source": [
        "saque = int(input('Qual valor deseja sacar? '))\n",
        "ced_100 = ced_50 = ced_10 = ced_5 = ced_1 = 0\n",
        "\n",
        "ced_100, saque = divmod(saque, 100)\n",
        "ced_50, saque = divmod(saque, 50)\n",
        "ced_10, saque = divmod(saque, 10)\n",
        "ced_5, ced_1 = divmod(saque, 5)\n",
        "\n",
        "if ced_100 > 0:\n",
        "  print(f'{ced_100} nota(s) de R$ 100,00')\n",
        "if ced_50 > 0:\n",
        "  print(f'{ced_50} nota(s) de R$ 50,00')\n",
        "if ced_10 > 0:\n",
        "  print(f'{ced_10} nota(s) de R$ 10,00')\n",
        "if ced_5 > 0:\n",
        "  print(f'{ced_5} nota(s) de R$ 5,00')\n",
        "if ced_1 > 0:\n",
        "  print(f'{ced_1} nota(s) de R$ 1,00')\n",
        "\n",
        "\n"
      ],
      "execution_count": 25,
      "outputs": [
        {
          "output_type": "stream",
          "text": [
            "Qual valor deseja sacar? 399\n",
            "3 nota(s) de R$ 100,00\n",
            "1 nota(s) de R$ 50,00\n",
            "4 nota(s) de R$ 10,00\n",
            "1 nota(s) de R$ 5,00\n",
            "4 nota(s) de R$ 1,00\n"
          ],
          "name": "stdout"
        }
      ]
    }
  ]
}