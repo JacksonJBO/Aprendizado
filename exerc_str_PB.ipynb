{
  "nbformat": 4,
  "nbformat_minor": 0,
  "metadata": {
    "colab": {
      "name": "exerc_str_PB.ipynb",
      "provenance": [],
      "authorship_tag": "ABX9TyMRofWv13J/2CAUfwiXnoXt",
      "include_colab_link": true
    },
    "kernelspec": {
      "name": "python3",
      "display_name": "Python 3"
    },
    "language_info": {
      "name": "python"
    }
  },
  "cells": [
    {
      "cell_type": "markdown",
      "metadata": {
        "id": "view-in-github",
        "colab_type": "text"
      },
      "source": [
        "<a href=\"https://colab.research.google.com/github/JacksonJBO/Aprendizado/blob/main/exerc_str_PB.ipynb\" target=\"_parent\"><img src=\"https://colab.research.google.com/assets/colab-badge.svg\" alt=\"Open In Colab\"/></a>"
      ]
    },
    {
      "cell_type": "code",
      "metadata": {
        "id": "3BqOiEi2GvTF"
      },
      "source": [
        "frase1 =str(input('Digite a primeira string:')\n",
        "frase2 = str(input('Digite a segunda string:')\n",
        "lf1= len(frase1)\n",
        "lf2 = len(frase2)\n",
        "print(f'O tamanho de \\\"{frase1}\\\" são {lf1} caracteres.')\n",
        "print(f'O tamanho de \\\"{frase2}\\\" são {lf2} caracteres.')\n",
        "if frase1 != frase2:\n",
        "  print('As duas strings são de tamanhos diferentes.')\n",
        "  print('As duas strings possuem conteúdo diferente')\n",
        "else:\n",
        "  print('As duas strings são de tamanhos iguais')\n",
        "  print('As duas strings possuem conteúdo igual')"
      ],
      "execution_count": null,
      "outputs": []
    },
    {
      "cell_type": "markdown",
      "metadata": {
        "id": "vqch1o2tLO6q"
      },
      "source": [
        "#Strings\n"
      ]
    },
    {
      "cell_type": "code",
      "metadata": {
        "colab": {
          "base_uri": "https://localhost:8080/"
        },
        "id": "x40qHI_YLR5p",
        "outputId": "9482e81d-626f-4f86-877a-854724a8f0d8"
      },
      "source": [
        "nome = str(input('Digite seu nome: ')).upper()\n",
        "aocontrario = ''.join(reversed(nome))\n",
        "print(aocontrario)"
      ],
      "execution_count": 13,
      "outputs": [
        {
          "output_type": "stream",
          "text": [
            "Digite seu nome: jackson\n",
            "NOSKCAJ\n"
          ],
          "name": "stdout"
        }
      ]
    },
    {
      "cell_type": "code",
      "metadata": {
        "colab": {
          "base_uri": "https://localhost:8080/"
        },
        "id": "DSTpWHuMNZmu",
        "outputId": "0ec238b3-939e-4d14-a1c4-7f1b14ba06bb"
      },
      "source": [
        "nome = str(input( 'Digite um nome:' )).upper()\n",
        "lnome = list(nome)\n",
        "for c in lnome:\n",
        "  print(c, '\\n')\n",
        "\n"
      ],
      "execution_count": 28,
      "outputs": [
        {
          "output_type": "stream",
          "text": [
            "Digite um nome:jackson\n",
            "J \n",
            "\n",
            "A \n",
            "\n",
            "C \n",
            "\n",
            "K \n",
            "\n",
            "S \n",
            "\n",
            "O \n",
            "\n",
            "N \n",
            "\n"
          ],
          "name": "stdout"
        }
      ]
    }
  ]
}