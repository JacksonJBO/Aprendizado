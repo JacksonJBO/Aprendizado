{
  "nbformat": 4,
  "nbformat_minor": 0,
  "metadata": {
    "colab": {
      "name": "exerc_str_PB.ipynb",
      "provenance": [],
      "authorship_tag": "ABX9TyOU+ykigtm8+XBrFkQ3MhaW",
      "include_colab_link": true
    },
    "kernelspec": {
      "name": "python3",
      "display_name": "Python 3"
    },
    "language_info": {
      "name": "python"
    }
  },
  "cells": [
    {
      "cell_type": "markdown",
      "metadata": {
        "id": "view-in-github",
        "colab_type": "text"
      },
      "source": [
        "<a href=\"https://colab.research.google.com/github/JacksonJBO/Aprendizado/blob/main/exerc_str_PB.ipynb\" target=\"_parent\"><img src=\"https://colab.research.google.com/assets/colab-badge.svg\" alt=\"Open In Colab\"/></a>"
      ]
    },
    {
      "cell_type": "code",
      "metadata": {
        "id": "3BqOiEi2GvTF"
      },
      "source": [
        "frase1 =str(input('Digite a primeira string:')\n",
        "frase2 = str(input('Digite a segunda string:')\n",
        "lf1= len(frase1)\n",
        "lf2 = len(frase2)\n",
        "print(f'O tamanho de \\\"{frase1}\\\" são {lf1} caracteres.')\n",
        "print(f'O tamanho de \\\"{frase2}\\\" são {lf2} caracteres.')\n",
        "if frase1 != frase2:\n",
        "  print('As duas strings são de tamanhos diferentes.')\n",
        "  print('As duas strings possuem conteúdo diferente')\n",
        "else:\n",
        "  print('As duas strings são de tamanhos iguais')\n",
        "  print('As duas strings possuem conteúdo igual')"
      ],
      "execution_count": null,
      "outputs": []
    },
    {
      "cell_type": "markdown",
      "metadata": {
        "id": "vqch1o2tLO6q"
      },
      "source": [
        "#Strings\n"
      ]
    },
    {
      "cell_type": "code",
      "metadata": {
        "colab": {
          "base_uri": "https://localhost:8080/"
        },
        "id": "x40qHI_YLR5p",
        "outputId": "9482e81d-626f-4f86-877a-854724a8f0d8"
      },
      "source": [
        "nome = str(input('Digite seu nome: ')).upper()\n",
        "aocontrario = ''.join(reversed(nome))\n",
        "print(aocontrario)"
      ],
      "execution_count": null,
      "outputs": [
        {
          "output_type": "stream",
          "text": [
            "Digite seu nome: jackson\n",
            "NOSKCAJ\n"
          ],
          "name": "stdout"
        }
      ]
    },
    {
      "cell_type": "code",
      "metadata": {
        "id": "DSTpWHuMNZmu"
      },
      "source": [
        "nome = str(input( 'Digite um nome:' )).upper()\n",
        "lnome = list(nome)\n",
        "for c in lnome:\n",
        "  print(c, '\\n')\n",
        "\n"
      ],
      "execution_count": null,
      "outputs": []
    },
    {
      "cell_type": "code",
      "metadata": {
        "id": "UVFvmjhEtcek"
      },
      "source": [
        "#Exercicio 11\n",
        "\n",
        "palavra = 'DEVPRO'\n",
        "print('=-'*5, 'JOGO DA FORCA', '=-'*5)\n",
        "print('Descubra a palavra!')\n",
        "print('A palavra é: ', end='')\n",
        "for letra in palavra:\n",
        "  print(' _', end='')\n",
        "conj_letras_palavra = set(palavra)\n",
        "conj_letras_dig = set()\n",
        "erros = 0\n",
        "\n",
        "while (not conj_letras_palavra.issubset(conj_letras_dig)) and erros < 7:\n",
        "  print()\n",
        "  print()\n",
        "  letra_dig = input('Digite uma letra: ').upper()\n",
        "  conj_letras_dig.add(letra_dig)\n",
        "  if letra_dig in conj_letras_palavra:\n",
        "    print('A palavra é: ', end='')\n",
        "    for letra in palavra:\n",
        "      if letra in conj_letras_dig:\n",
        "        print(f'{letra} ', end='' )\n",
        "      else:\n",
        "        print(' _', end='')\n",
        "    print()\n",
        "  else:\n",
        "    erros += 1\n",
        "    print(f'>> Errou {erros} de 6. Tente novamente!')\n",
        "\n",
        "  print('Letras ja digitadas: ',conj_letras_dig)\n",
        "\n",
        "if erros < 7:\n",
        "  print('$'*5, 'GANHOU', '$'*5)\n",
        "else:\n",
        "  print('X'*5, 'PERDEU', 'X'*5)\n",
        "\n"
      ],
      "execution_count": null,
      "outputs": []
    },
    {
      "cell_type": "code",
      "metadata": {
        "id": "7e9DVEWV2QBW"
      },
      "source": [
        "nome = 'FULANO'\n",
        "q = len(nome)\n",
        "for c in range(q):\n",
        "  print(nome)\n",
        "  nome = nome.replace(nome[-1], '')\n"
      ],
      "execution_count": null,
      "outputs": []
    },
    {
      "cell_type": "code",
      "metadata": {
        "colab": {
          "base_uri": "https://localhost:8080/"
        },
        "id": "RrnpTO-H6Y4J",
        "outputId": "4638fa62-ff96-4288-9593-2c0d5ce5ef1d"
      },
      "source": [
        "#solução renzo\n",
        "nome = 'FULANO'\n",
        "while nome != '':\n",
        "  print(nome)\n",
        "  nome = nome[:-1]\n",
        "  "
      ],
      "execution_count": 36,
      "outputs": [
        {
          "output_type": "stream",
          "text": [
            "FULANO\n",
            "FULAN\n",
            "FULA\n",
            "FUL\n",
            "FU\n",
            "F\n"
          ],
          "name": "stdout"
        }
      ]
    }
  ]
}