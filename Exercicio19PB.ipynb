{
  "nbformat": 4,
  "nbformat_minor": 0,
  "metadata": {
    "colab": {
      "name": "Exercicio19PB.ipynb",
      "provenance": [],
      "collapsed_sections": [],
      "authorship_tag": "ABX9TyMv2JAhicavG4nCvy4fjqep",
      "include_colab_link": true
    },
    "kernelspec": {
      "name": "python3",
      "display_name": "Python 3"
    },
    "language_info": {
      "name": "python"
    }
  },
  "cells": [
    {
      "cell_type": "markdown",
      "metadata": {
        "id": "view-in-github",
        "colab_type": "text"
      },
      "source": [
        "<a href=\"https://colab.research.google.com/github/JacksonJBO/Aprendizado/blob/main/Exercicio19PB.ipynb\" target=\"_parent\"><img src=\"https://colab.research.google.com/assets/colab-badge.svg\" alt=\"Open In Colab\"/></a>"
      ]
    },
    {
      "cell_type": "code",
      "metadata": {
        "colab": {
          "base_uri": "https://localhost:8080/"
        },
        "id": "DgAyxr6CmZFx",
        "outputId": "d6bb6741-94b4-4383-9840-337eabd08f5a"
      },
      "source": [
        "nota1 = float(input('Primeira Nota: '))\n",
        "nota2 = float(input('Segunda Nota: '))\n",
        "media = (nota1 + nota2) / 2\n",
        "if media == 10:\n",
        "  print(f'O aluno ficou com média {media:.1f}. Aprovado com distinção!')\n",
        "elif 7 <= media <= 9.9:\n",
        "  print(f'O Aluno foi provado com a media {media:.1f}')\n",
        "elif media < 7:\n",
        "  print(f'Media {media:.1f}. Media abaixo de 7. Aluno reprovado')\n",
        "\n"
      ],
      "execution_count": 6,
      "outputs": [
        {
          "output_type": "stream",
          "text": [
            "Primeira Nota: 10\n",
            "Segunda Nota: 10\n",
            "O aluno ficou com média 10.0. Aprovado com distinção\n"
          ],
          "name": "stdout"
        }
      ]
    },
    {
      "cell_type": "code",
      "metadata": {
        "colab": {
          "base_uri": "https://localhost:8080/"
        },
        "id": "1pxxUHCdo0p9",
        "outputId": "acb8c083-08c5-4958-e15d-389867cfdb3a"
      },
      "source": [
        "num = int(input('Digite um número intero menor que 1000: '))\n",
        "centena = num //100\n",
        "dezena = (num % 100) // 10\n",
        "unidade = (num % 100) - (dezena * 10) \n",
        "\n",
        "if centena < 1:\n",
        "  print(end='')\n",
        "else:\n",
        "  if centena > 1:\n",
        "    print(f'{centena} centenas ', end='')\n",
        "  elif centena < 1:\n",
        "    print(end='')\n",
        "  else:\n",
        "    print(f'{centena} centena ', end='')\n",
        "if dezena < 1:\n",
        "  print(end='')\n",
        "else:\n",
        "  if centena >= 1:\n",
        "    if dezena > 1:\n",
        "      print(f', {dezena} dezenas ', end='')\n",
        "    elif dezena < 1:\n",
        "      print(end='')\n",
        "    else:\n",
        "      print(f', {dezena} dezena ', end='')\n",
        "  else: \n",
        "    if dezena > 1:\n",
        "      print(f'{dezena} dezenas ', end='')\n",
        "    elif dezena < 1:\n",
        "      print(end='')\n",
        "    else:\n",
        "      print(f'{dezena} dezena ', end='')\n",
        "if unidade < 1:\n",
        "  print(end='.')\n",
        "else: \n",
        "  if dezena >= 1 or centena >= 1:\n",
        "    if unidade > 1:\n",
        "      print(f'e {unidade} unidades.')\n",
        "    else:\n",
        "      print(f'e {unidade} unidade.')\n",
        "  else: \n",
        "    if unidade > 1:\n",
        "      print(f'{unidade} unidades.')\n",
        "    else:\n",
        "      print(f'{unidade} unidade.')\n"
      ],
      "execution_count": 77,
      "outputs": [
        {
          "output_type": "stream",
          "text": [
            "Digite um número intero menor que 1000: 16\n",
            "1 dezena e 6 unidades.\n"
          ],
          "name": "stdout"
        }
      ]
    },
    {
      "cell_type": "code",
      "metadata": {
        "colab": {
          "base_uri": "https://localhost:8080/"
        },
        "id": "RhqEGS80vojZ",
        "outputId": "1f67acc7-db13-409f-f295-8d10a8ef33f4"
      },
      "source": [
        "# Resolução Renzo\n",
        "num = int(input('Digite um número intero menor que 1000: '))\n",
        "centenas_str = dezenas_str = unidades_str = ''\n",
        "centenas_int, num = divmod(num, 100)\n",
        "partes_numericas = 0\n",
        "if centenas_int == 1:\n",
        "  centenas_str = '1 centena'\n",
        "  partes_numericas += 1\n",
        "elif centenas_int > 1:\n",
        "  centenas_str = f'{centenas_int} centenas'\n",
        "  partes_numericas += 1\n",
        "\n",
        "dezenas_int, num = divmod(num, 10)\n",
        "\n",
        "if dezenas_int == 1:\n",
        "  dezenas_str = '1 dezena'\n",
        "  partes_numericas += 1\n",
        "elif dezenas_int > 1:\n",
        "  dezenas_str = f'{dezenas_int} dezenas'\n",
        "  partes_numericas += 1\n",
        " \n",
        "if num == 1:\n",
        "  unidades_str = '1 unidade'\n",
        "  partes_numericas += 1\n",
        "elif num > 1:\n",
        "  unidades_str = f'{num} unidades'\n",
        "  partes_numericas += 1\n",
        "\n",
        "if partes_numericas == 0:\n",
        "  print('Número 0 não possui centenas, dezenas ou unidades')\n",
        "elif partes_numericas == 1:\n",
        "  print(centenas_str + dezenas_str + unidades_str )\n",
        "elif partes_numericas == 3:\n",
        "  print(f'{centenas_str}, {dezenas_str} e {unidades_str}')\n",
        "elif partes_numericas == 2:\n",
        "  if centenas_str != '':\n",
        "    segunda_parte = dezenas_str + unidades_str\n",
        "    print(f'{centenas_str} e {segunda_parte}')\n",
        "  else:\n",
        "    print(f'{dezenas_str} e {unidades_str}')"
      ],
      "execution_count": 81,
      "outputs": [
        {
          "output_type": "stream",
          "text": [
            "Digite um número intero menor que 1000: 16\n",
            "1 dezena e 6 unidades\n"
          ],
          "name": "stdout"
        }
      ]
    },
    {
      "cell_type": "code",
      "metadata": {
        "id": "hCqgoIT-DG6_"
      },
      "source": [
        ""
      ],
      "execution_count": null,
      "outputs": []
    },
    {
      "cell_type": "code",
      "metadata": {
        "id": "X5c896hPCCfH"
      },
      "source": [
        ""
      ],
      "execution_count": null,
      "outputs": []
    }
  ]
}